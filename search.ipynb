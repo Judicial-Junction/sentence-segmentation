{
 "cells": [
  {
   "cell_type": "code",
   "execution_count": 81,
   "metadata": {},
   "outputs": [],
   "source": [
    "from sentence_transformers import SentenceTransformer\n",
    "import spacy\n",
    "import pandas as pd\n",
    "import boto3\n",
    "from io import StringIO\n",
    "import datetime\n",
    "import os"
   ]
  },
  {
   "cell_type": "code",
   "execution_count": 62,
   "metadata": {},
   "outputs": [],
   "source": [
    "nlp = spacy.load(\"en_core_web_sm\")"
   ]
  },
  {
   "cell_type": "code",
   "execution_count": 54,
   "metadata": {},
   "outputs": [],
   "source": [
    "s3 = boto3.client(\n",
    "    \"s3\",\n",
    "    aws_access_key_id=os.environ[\"AWS_ACCESS_KEY\"],\n",
    "    aws_secret_access_key=os.environ[\"AWS_SECRET_ACCESS_KEY\"],\n",
    ")\n",
    "\n",
    "s3_view = boto3.resource(\n",
    "    \"s3\",\n",
    "    aws_access_key_id=os.environ[\"AWS_ACCESS_KEY\"],\n",
    "    aws_secret_access_key=os.environ[\"AWS_SECRET_ACCESS_KEY\"],\n",
    ")\n",
    "\n",
    "s3_bucket = \"digital-adhivakta\"\n",
    "prefix = \"Cases/date=\""
   ]
  },
  {
   "cell_type": "code",
   "execution_count": 55,
   "metadata": {},
   "outputs": [
    {
     "name": "stdout",
     "output_type": "stream",
     "text": [
      "20240202\n"
     ]
    }
   ],
   "source": [
    "default = (datetime.datetime.now()).strftime(\"%Y%m%d\")\n",
    "date = input(\"Enter date (%Y%m%d):\").strip() or default\n",
    "date_formatted = datetime.datetime.strptime(date, \"%Y%m%d\").strftime(\"%Y%m%d\")\n",
    "print(date_formatted)"
   ]
  },
  {
   "cell_type": "code",
   "execution_count": 56,
   "metadata": {},
   "outputs": [
    {
     "data": {
      "text/plain": [
       "'Cases/date=20240202'"
      ]
     },
     "execution_count": 56,
     "metadata": {},
     "output_type": "execute_result"
    }
   ],
   "source": [
    "prefix = prefix + date_formatted\n",
    "prefix"
   ]
  },
  {
   "cell_type": "code",
   "execution_count": 57,
   "metadata": {},
   "outputs": [],
   "source": [
    "response = s3.list_objects_v2(Bucket=s3_bucket, Prefix=prefix)"
   ]
  },
  {
   "cell_type": "code",
   "execution_count": 48,
   "metadata": {},
   "outputs": [
    {
     "data": {
      "text/plain": [
       "['Cases/date=20240202/W15582024.txt', 'Cases/date=20240202/W98872019.txt']"
      ]
     },
     "execution_count": 48,
     "metadata": {},
     "output_type": "execute_result"
    }
   ],
   "source": [
    "files = response.get(\"Contents\", [])\n",
    "cases = []\n",
    "for file in files:\n",
    "    file_key = file.get(\"Key\")\n",
    "    if file_key.endswith(\".txt\"):\n",
    "        cases.append(file_key)\n",
    "\n",
    "cases\n",
    "# file_key"
   ]
  },
  {
   "cell_type": "code",
   "execution_count": 72,
   "metadata": {},
   "outputs": [
    {
     "name": "stdout",
     "output_type": "stream",
     "text": [
      "                             case_no datedate_of_judgement  \\\n",
      "0  Cases/date=20240202/W15582024.txt              20240202   \n",
      "1  Cases/date=20240202/W98872019.txt              20240202   \n",
      "\n",
      "                                              tokens  \n",
      "0  [* IN THE HIGH COURT OF DELHI AT NEW DELHI + W...  \n",
      "1  [* IN THE HIGH COURT OF DELHI AT NEW DELHI % R...  \n"
     ]
    }
   ],
   "source": [
    "case_data = []\n",
    "for case in cases:\n",
    "    case_content = s3_view.Object(s3_bucket, case).get()[\"Body\"].read().decode(\"utf-8\")\n",
    "    doc = nlp(case_content)\n",
    "\n",
    "    sentences = [sent.text for sent in doc.sents]\n",
    "    case_data.append(\n",
    "        {\"case_no\": case, \"datedate_of_judgement\": date_formatted, \"tokens\": sentences}\n",
    "    )\n",
    "\n",
    "case_df = pd.DataFrame(case_data)"
   ]
  },
  {
   "cell_type": "code",
   "execution_count": 74,
   "metadata": {},
   "outputs": [],
   "source": [
    "case_df.to_csv(f\"tokens/date={date_formatted}.csv\", index=False)"
   ]
  },
  {
   "cell_type": "code",
   "execution_count": 84,
   "metadata": {},
   "outputs": [
    {
     "data": {
      "text/plain": [
       "{'ResponseMetadata': {'RequestId': 'XREB1X1DYPFE5NXY',\n",
       "  'HostId': '/fo1J3Nu8aInzMFnGw9PJA5EGzz3dXjWaXTbIcjeBhv3cziK9cPcLFS4eAf200KZ/ugVs/gbe1g=',\n",
       "  'HTTPStatusCode': 200,\n",
       "  'HTTPHeaders': {'x-amz-id-2': '/fo1J3Nu8aInzMFnGw9PJA5EGzz3dXjWaXTbIcjeBhv3cziK9cPcLFS4eAf200KZ/ugVs/gbe1g=',\n",
       "   'x-amz-request-id': 'XREB1X1DYPFE5NXY',\n",
       "   'date': 'Mon, 05 Feb 2024 10:58:17 GMT',\n",
       "   'x-amz-server-side-encryption': 'AES256',\n",
       "   'etag': '\"599133805d45af48aaa121f81f6b90cc\"',\n",
       "   'server': 'AmazonS3',\n",
       "   'content-length': '0'},\n",
       "  'RetryAttempts': 0},\n",
       " 'ETag': '\"599133805d45af48aaa121f81f6b90cc\"',\n",
       " 'ServerSideEncryption': 'AES256'}"
      ]
     },
     "execution_count": 84,
     "metadata": {},
     "output_type": "execute_result"
    }
   ],
   "source": [
    "case_buffer = StringIO()\n",
    "case_csv = case_df.to_csv(case_buffer, index=False)\n",
    "case_buffer.seek(0)\n",
    "\n",
    "s3.put_object(\n",
    "    Body=case_buffer.getvalue(),\n",
    "    Bucket=s3_bucket,\n",
    "    Key=f\"Tokens/date_{date_formatted}.csv\",\n",
    ")"
   ]
  },
  {
   "cell_type": "code",
   "execution_count": 77,
   "metadata": {},
   "outputs": [
    {
     "name": "stdout",
     "output_type": "stream",
     "text": [
      "['* IN THE HIGH COURT OF DELHI AT NEW DELHI + W.P.(C) 1558/2024 and CM APPL.', '6461/2024, CM APPL.', '6462/2024 MAYAPURI CETP SOCIETY .....', 'Petitioner Through: Mr. Siddhartha Iyer and Mr. Deevanshu Sharma, Advocates versus THE SPECIAL COMMISSIONER OFINDUSTRY CUM APPROPRIATE AUTHORITY CETP AND ORS .....', \"Respondents Through: Ms. Sangeeta Bharti, Standing Counsel with Ms. Malvi Balyan and Ms. Aarushi Bhel, Advocates for Delhi Jal Board % Date of Decision: 2nd February, 2024 CORAM: HON'BLE THE ACTING CHIEF JUSTICE HON'BLE MS.\", 'JUSTICE MANMEET PRITAM SINGH ARORA JUDGMENT MANMOHAN, ACJ: (ORAL) 1.', 'Present petition has been filed seeking quashing of the notification No. F1/CI/OSD/Transfer of CETPs/2021-22/4570-83 dated 1st January, 2024 issued by Respondent No. 1 (�Impugned Notification�).', 'The Common Effluent Treatment Plant managed by Petitioner No. 1 is enlisted at Serial No. 6 of the impugned notification.', '2. Learned counsel for the Petitioner states that the Petitioner Society has been constituted under the order dated 9th May, 1996 passed by the Supreme Court of India and under the provisions of the Delhi Common Effluent Treatment Plants Act, 2000 (�CETP Act�).', 'He states that the Petitioner is aggrieved by the Impugned Notification, which has been issued in violation of the CETP Act as well as the Delhi Common Effluent Treatment Plants Rules, 2001 (�CETP Rules�).', 'He states that no procedure as contemplated under Section 14 of the CETP Act read with Rule 9 of the CETP Rules was followed by Respondent No. 2.', 'He states that therefore, the impugned notification is in violation of the principles of natural justice stipulated in the aforesaid provisions.', 'He states that the Petitioners have been caught unaware by the Impugned Notification, which is non-speaking, unreasoned and illegal.', 'He states that Respondent No. 1 has no jurisdiction to issue directions to Respondent No. 3, Delhi Jal Board (�DJB�) to take over the plant as is proposed to be done.', '3. Learned Standing counsel for Respondent No. 2 states that a show cause notice was issued to the Petitioner in accordance with Section 14 of the CETP Act read with Rule 9(1) of the CETP Rules.', 'He states that the Petitioner duly replied to the said notice on 28th October, 2022.', 'He states that after duly considering the reply of the Petitioner, the Appropriate Authority found the same unsatisfactory and therefore, rejected the same by a speaking order.', 'He relies upon the office noting dated 4th January, 2023 and contends that the same is the order signed by the Appropriate Authority.', 'He states that in view of the said order, recorded in the file, the Respondent No. 2 proceeded to issue the impugned notification as per the CETP Act and CETP Rules.', 'He fairly concedes that there is no record available with Respondent No. 2 with respect to communication of the order dated 4th January, 2023 to the Petitioner herein.', '4.', 'In response, learned counsel for the Petitioner states that no purported order dated 4th January, 2023 of the Appropriate Authority has been communicated to the Petitioners herein.', 'He states that the Petitioner has a valuable right of appeal under Section 13 of the CETP Act, which is to be exercised within 30 days.', 'He states that since the Petitioner was not called for any hearing and had not heard from the Respondent No. 2, with the passage of time the Petitioner believed that the proceedings arising from the show cause notice stood closed.', 'He states that in fact, the Petitioner herein was served with a show cause notice on 28th March, 2023 and a detailed reply was filed on 26th April, 2023 with a request for personal hearing.', 'He states that the Petitioner has not heard from Respondent No. 2 in furtherance of show cause notice dated 28th March, 2023.', '5.', 'This Court has considered the submissions of the learned counsel for the parties and perused the record.', '6.', 'It is an admitted fact that the Impugned Notification has been issued in furtherance of the order of the Appropriate Authority dated 4th January, 2023.', 'It is admitted that the order dated 4th January, 2023 has not been served upon the Petitioner, who has a statutory right of appeal under Section 13 of the CETP Act to assail the said order.', 'In these admitted facts, it is therefore apparent that the Impugned Notification has been passed in violation of the provisions of the applicable Act and Rules, which has led to violation of principles of natural justice.', '7.', 'This Court also finds merit in the submission of the Petitioner that the issuance of the subsequent show cause notice dated 28th March, 2023 is inconsistent with passing of the order dated 4th January, 2023.', 'In fact, learned Standing Counsel for Respondent No. 1 has no instructions as regards issuance of the subsequent show cause notice.', 'Consequently, this Court is of the view that the order dated 4th January, 2023 has become stale.', '8.', 'In view of the aforesaid facts, the Impugned Notification No. F1/CI/OSD/Transfer of CETPs/2021-22/4570-83 dated 1st January, 2024 is quashed in so far as it pertains to Petitioner herein.', 'It is further directed that Appropriate Authority under the CETP Act will be at liberty to issue a fresh and comprehensive show cause notice to the Petitioner on the same cause of action in accordance with law, preferably within two weeks.', 'The Petitioner shall file its reply to the said show cause notice within two weeks from the date of receipt.', 'This Court has not examined the allegations on merits of the allegations contained in the show cause notice(s) and therefore, the rights and contention of all parties are left open.', 'All further proceedings will be governed by the applicable provisions of the CETP Act and CETP Rules.', '9.', 'With the aforesaid directions, the present petition stands allowed and applications stand disposed of.', 'ACTING CHIEF JUSTICE MANMEET PRITAM SINGH ARORA, J FEBRUARY 1, 2024/rhc/MG']\n"
     ]
    }
   ],
   "source": [
    "# sentences = [sentence.text for sentence in nlp(document).sents]\n",
    "print(case_df[\"tokens\"][0])"
   ]
  },
  {
   "cell_type": "markdown",
   "metadata": {},
   "source": [
    "Embeddings\n"
   ]
  },
  {
   "cell_type": "code",
   "execution_count": 79,
   "metadata": {},
   "outputs": [
    {
     "name": "stdout",
     "output_type": "stream",
     "text": [
      "[[ 6.0616452e-02  2.6211658e-02 -9.4094556e-03 ... -1.1399918e-02\n",
      "  -7.0926949e-02 -1.1393674e-02]\n",
      " [-6.8027782e-03 -4.9947020e-02  6.0542366e-03 ... -2.2570305e-02\n",
      "  -5.0657842e-02 -4.6072807e-02]\n",
      " [-9.6992906e-03 -5.0415434e-02  7.8566764e-03 ... -2.2679275e-02\n",
      "  -5.2762594e-02 -4.9357846e-02]\n",
      " ...\n",
      " [ 3.0448144e-02 -4.4737093e-02  2.9214546e-03 ... -2.6977085e-02\n",
      "   5.3604995e-03  7.8415517e-03]\n",
      " [ 5.3444795e-02  1.8331602e-02 -2.6015736e-02 ... -4.2434219e-02\n",
      "  -8.6601794e-02 -6.8801230e-05]\n",
      " [ 2.5921328e-02 -4.3619342e-02  7.9045873e-03 ... -2.1928374e-03\n",
      "  -3.0777067e-02 -2.7946236e-02]]\n"
     ]
    }
   ],
   "source": [
    "sentences = case_df[\"tokens\"][1]\n",
    "model = SentenceTransformer(\"sentence-transformers/all-mpnet-base-v2\")\n",
    "embeddings = model.encode(sentences)\n",
    "print(embeddings)"
   ]
  }
 ],
 "metadata": {
  "kernelspec": {
   "display_name": "Python 3",
   "language": "python",
   "name": "python3"
  },
  "language_info": {
   "codemirror_mode": {
    "name": "ipython",
    "version": 3
   },
   "file_extension": ".py",
   "mimetype": "text/x-python",
   "name": "python",
   "nbconvert_exporter": "python",
   "pygments_lexer": "ipython3",
   "version": "3.12.0"
  }
 },
 "nbformat": 4,
 "nbformat_minor": 2
}
